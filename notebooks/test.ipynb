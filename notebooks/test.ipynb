{
 "cells": [
  {
   "cell_type": "code",
   "execution_count": 2,
   "id": "59bed1a0",
   "metadata": {},
   "outputs": [],
   "source": [
    "import numpy as np\n",
    "ar = np.random.rand(2, 3, 5)"
   ]
  },
  {
   "cell_type": "code",
   "execution_count": 3,
   "id": "d8ba03f5",
   "metadata": {},
   "outputs": [
    {
     "data": {
      "text/plain": [
       "array([[0.34358013, 0.08871657, 0.69757527, 0.97659612, 0.3782165 ],\n",
       "       [0.78809291, 0.946025  , 0.3618753 , 0.19865583, 0.18206497],\n",
       "       [0.47425623, 0.85269427, 0.66634517, 0.54166064, 0.01835848]])"
      ]
     },
     "execution_count": 3,
     "metadata": {},
     "output_type": "execute_result"
    }
   ],
   "source": [
    "np.random.rand( 3, 5)"
   ]
  },
  {
   "cell_type": "code",
   "execution_count": 4,
   "id": "3cbce1c6",
   "metadata": {},
   "outputs": [
    {
     "data": {
      "text/plain": [
       "[array([[0.96941619, 0.78018998, 0.81084288, 0.74188474],\n",
       "        [0.97681943, 0.4013148 , 0.02298782, 0.2238354 ]]),\n",
       " array([[0.27170978, 0.21846339, 0.97434825, 0.89063587, 0.11824287],\n",
       "        [0.60690608, 0.05188647, 0.69235993, 0.99049288, 0.49545776],\n",
       "        [0.22565899, 0.17554729, 0.45877886, 0.09683823, 0.64467007],\n",
       "        [0.38720299, 0.27729145, 0.59340718, 0.44072437, 0.23499047]])]"
      ]
     },
     "execution_count": 4,
     "metadata": {},
     "output_type": "execute_result"
    }
   ],
   "source": [
    "layers = [2,4,5]\n",
    "weights = [np.random.rand(x, y) for x, y in zip(layers[:-1], layers[1:])]\n",
    "weights"
   ]
  },
  {
   "cell_type": "code",
   "execution_count": 5,
   "id": "dcf786ca",
   "metadata": {},
   "outputs": [
    {
     "data": {
      "text/plain": [
       "[2, 4]"
      ]
     },
     "execution_count": 5,
     "metadata": {},
     "output_type": "execute_result"
    }
   ],
   "source": [
    "layers[:-1]"
   ]
  },
  {
   "cell_type": "code",
   "execution_count": 6,
   "id": "62ee9df8",
   "metadata": {},
   "outputs": [
    {
     "data": {
      "text/plain": [
       "[4, 5]"
      ]
     },
     "execution_count": 6,
     "metadata": {},
     "output_type": "execute_result"
    }
   ],
   "source": [
    "layers[1:]"
   ]
  },
  {
   "cell_type": "code",
   "execution_count": 7,
   "id": "7f027d59",
   "metadata": {},
   "outputs": [
    {
     "name": "stdout",
     "output_type": "stream",
     "text": [
      "[0.96515374 0.26793338 0.08585106 0.49469098 0.67976576]\n",
      "[0.40305655 0.69350686 0.9019155  0.20857886 0.72585039]\n"
     ]
    }
   ],
   "source": [
    "for i in ar:\n",
    "    print(i[1])"
   ]
  },
  {
   "cell_type": "code",
   "execution_count": 8,
   "id": "34c09e01",
   "metadata": {},
   "outputs": [
    {
     "data": {
      "text/plain": [
       "array([[0.88781088, 0.24324504, 0.02989816, 0.71635855],\n",
       "       [0.14031827, 0.43519586, 0.16448808, 0.30141411]])"
      ]
     },
     "execution_count": 8,
     "metadata": {},
     "output_type": "execute_result"
    }
   ],
   "source": [
    "import numpy as np\n",
    "data = np.array([[0,0,0]])\n",
    "layers = [2,4,5,1]\n",
    "weights = [np.random.rand(x, y) for x, y in zip(layers[:-1], layers[1:])]\n",
    "biases = [np.random.rand(1, y) for y in layers[1:]]\n",
    "\n",
    "X = data[:, :2]\n",
    "y = data[:, 2:]\n",
    "activations = []\n",
    "weights[0]"
   ]
  },
  {
   "cell_type": "code",
   "execution_count": 9,
   "id": "7031f2f5",
   "metadata": {},
   "outputs": [
    {
     "data": {
      "text/plain": [
       "array([[0.09914432, 0.46037754, 0.40386393, 0.74195091]])"
      ]
     },
     "execution_count": 9,
     "metadata": {},
     "output_type": "execute_result"
    }
   ],
   "source": [
    "biases[0]"
   ]
  },
  {
   "cell_type": "code",
   "execution_count": 10,
   "id": "9f1f298a",
   "metadata": {},
   "outputs": [
    {
     "data": {
      "text/plain": [
       "array([[0.09914432, 0.46037754, 0.40386393, 0.74195091]])"
      ]
     },
     "execution_count": 10,
     "metadata": {},
     "output_type": "execute_result"
    }
   ],
   "source": [
    "z = np.dot(X[0], weights[0])+biases[0]\n",
    "z"
   ]
  },
  {
   "cell_type": "code",
   "execution_count": 11,
   "id": "f5cf22f4",
   "metadata": {},
   "outputs": [
    {
     "name": "stdout",
     "output_type": "stream",
     "text": [
      "activation:  0\n",
      "[[0.29665664 0.29651394 0.48898186 0.44544242]]\n",
      "\n",
      "\n",
      "activation:  1\n",
      "[[0.11517567 0.22242319 0.30245893 0.13115252 0.28489386]]\n",
      "\n",
      "\n",
      "activation:  2\n",
      "[[0.31118131]]\n",
      "\n",
      "\n",
      "Output error: \n",
      " [array([[0.06670094]])]\n",
      "\n",
      "layer errors\n",
      "[[0.00288278 0.0009743  0.00144853 0.00344997]]\n",
      "[[0.00183676 0.00798087 0.00772963 0.00023071 0.00266842]]\n",
      "[[0.06670094]]\n"
     ]
    }
   ],
   "source": [
    "import numpy as np\n",
    "import math\n",
    "\n",
    "# data = np.array([[0,0,0], [0,1,1], [1,0,1], [1,1,0]])\n",
    "data = np.array([[0,0,0]])\n",
    "layers = [2,4,5,1]\n",
    "weights = [np.random.rand(x, y) for x, y in zip(layers[:-1], layers[1:])]\n",
    "biases = [np.random.rand(1, y) for y in layers[1:]]\n",
    "\n",
    "def sigmoid(z):\n",
    "    return 1 / (1+np.exp(z))\n",
    "\n",
    "def dev_sig(a):\n",
    "    return a*(1-a)\n",
    "\n",
    "def output_error(a, y):\n",
    "    return (a - y) * dev_sig(a)\n",
    "\n",
    "X = data[:, :2]\n",
    "y = data[:, 2:]\n",
    "activations = []\n",
    "a = X\n",
    "lr = 0.25\n",
    "for i in range(0, len(layers)-1):\n",
    "    z = np.dot(a, weights[i])+biases[i]\n",
    "    a = sigmoid(z)\n",
    "    activations.append(a)\n",
    "\n",
    "for i in range(len(activations)):\n",
    "    print('activation: ', i)\n",
    "    print(activations[i])\n",
    "    print('\\n')\n",
    "\n",
    "n_layers = len(layers)\n",
    "errors = [output_error(a, y)]\n",
    "print('Output error: \\n', errors)\n",
    "\n",
    "for idx in range(2, n_layers):\n",
    "    error = np.dot(errors[0], weights[-idx+1].T)*dev_sig(activations[-idx])\n",
    "    errors.insert(0, error)\n",
    "\n",
    "print('\\nlayer errors')\n",
    "for error in errors:\n",
    "    print(error)\n",
    "n_data = len(X)\n",
    "for idx in range(0,n_layers-2):\n",
    "    weights[idx] = weights[idx] - (lr/n_data)*np.sum(errors[idx]*activations[idx].T)"
   ]
  },
  {
   "cell_type": "code",
   "execution_count": null,
   "id": "a4b29e40",
   "metadata": {},
   "outputs": [],
   "source": []
  },
  {
   "cell_type": "code",
   "execution_count": 12,
   "id": "7e991bee",
   "metadata": {},
   "outputs": [
    {
     "data": {
      "text/plain": [
       "3"
      ]
     },
     "execution_count": 12,
     "metadata": {},
     "output_type": "execute_result"
    }
   ],
   "source": [
    "len(weights)"
   ]
  },
  {
   "cell_type": "code",
   "execution_count": null,
   "id": "5afabbc7",
   "metadata": {},
   "outputs": [
    {
     "data": {
      "text/plain": [
       "4"
      ]
     },
     "execution_count": 13,
     "metadata": {},
     "output_type": "execute_result"
    }
   ],
   "source": [
    "n_layers"
   ]
  },
  {
   "cell_type": "code",
   "execution_count": 59,
   "id": "5d3daa2e",
   "metadata": {},
   "outputs": [
    {
     "data": {
      "text/plain": [
       "(array([0, 0]), [0])"
      ]
     },
     "execution_count": 59,
     "metadata": {},
     "output_type": "execute_result"
    }
   ],
   "source": [
    "data = np.loadtxt('../data/and_test.csv', delimiter=',', dtype=int)\n",
    "X = data[:, :-1]\n",
    "y = data[:, -1] \n",
    "\n",
    "dataset = [tuple((X[i], [y[i]])) for i in range(len(X))]\n",
    "\n",
    "train_size = int(len(dataset) * 0.8)\n",
    "train_data = dataset[:train_size]\n",
    "test_data = dataset[train_size:]\n",
    "train_data[1]"
   ]
  },
  {
   "cell_type": "code",
   "execution_count": 67,
   "id": "52d4fd1f",
   "metadata": {},
   "outputs": [
    {
     "data": {
      "text/plain": [
       "[[(array([1, 0]), [0]),\n",
       "  (array([1, 0]), [0]),\n",
       "  (array([1, 0]), [0]),\n",
       "  (array([1, 0]), [0]),\n",
       "  (array([1, 0]), [0]),\n",
       "  (array([1, 1]), [1]),\n",
       "  (array([0, 0]), [0]),\n",
       "  (array([1, 0]), [0]),\n",
       "  (array([1, 0]), [0]),\n",
       "  (array([1, 0]), [0]),\n",
       "  (array([1, 1]), [1]),\n",
       "  (array([0, 0]), [0]),\n",
       "  (array([1, 1]), [1]),\n",
       "  (array([1, 0]), [0]),\n",
       "  (array([0, 1]), [0]),\n",
       "  (array([0, 1]), [0]),\n",
       "  (array([1, 1]), [1]),\n",
       "  (array([0, 0]), [0]),\n",
       "  (array([0, 1]), [0]),\n",
       "  (array([1, 1]), [1]),\n",
       "  (array([0, 0]), [0]),\n",
       "  (array([0, 1]), [0]),\n",
       "  (array([1, 1]), [1]),\n",
       "  (array([0, 1]), [0]),\n",
       "  (array([1, 1]), [1])]]"
      ]
     },
     "execution_count": 67,
     "metadata": {},
     "output_type": "execute_result"
    }
   ],
   "source": [
    "import random\n",
    "training_data = train_data.copy()\n",
    "random.shuffle( training_data )\n",
    "batches = [ training_data [i:i+ 25 ] for i in range(0, len(train_data),\n",
    "25 )]\n",
    "batches[:1]"
   ]
  },
  {
   "cell_type": "code",
   "execution_count": 68,
   "id": "cd590120",
   "metadata": {},
   "outputs": [
    {
     "ename": "ValueError",
     "evalue": "too many values to unpack (expected 2)",
     "output_type": "error",
     "traceback": [
      "\u001b[1;31m---------------------------------------------------------------------------\u001b[0m",
      "\u001b[1;31mValueError\u001b[0m                                Traceback (most recent call last)",
      "Cell \u001b[1;32mIn[68], line 1\u001b[0m\n\u001b[1;32m----> 1\u001b[0m \u001b[38;5;28;01mfor\u001b[39;00m x, y \u001b[38;5;129;01min\u001b[39;00m batches:\n\u001b[0;32m      2\u001b[0m     \u001b[38;5;28mprint\u001b[39m(x)\n\u001b[0;32m      3\u001b[0m     \u001b[38;5;28mprint\u001b[39m(y)\n",
      "\u001b[1;31mValueError\u001b[0m: too many values to unpack (expected 2)"
     ]
    }
   ],
   "source": [
    "for x, y in batches:\n",
    "    print(x)\n",
    "    print(y)"
   ]
  }
 ],
 "metadata": {
  "kernelspec": {
   "display_name": "base",
   "language": "python",
   "name": "python3"
  },
  "language_info": {
   "codemirror_mode": {
    "name": "ipython",
    "version": 3
   },
   "file_extension": ".py",
   "mimetype": "text/x-python",
   "name": "python",
   "nbconvert_exporter": "python",
   "pygments_lexer": "ipython3",
   "version": "3.12.3"
  }
 },
 "nbformat": 4,
 "nbformat_minor": 5
}
