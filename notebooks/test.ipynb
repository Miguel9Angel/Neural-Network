{
 "cells": [
  {
   "cell_type": "code",
   "execution_count": 1,
   "id": "59bed1a0",
   "metadata": {},
   "outputs": [],
   "source": [
    "import numpy as np\n",
    "ar = np.random.rand(2, 3, 5)"
   ]
  },
  {
   "cell_type": "code",
   "execution_count": 2,
   "id": "d8ba03f5",
   "metadata": {},
   "outputs": [
    {
     "data": {
      "text/plain": [
       "array([[0.56973106, 0.10598781, 0.60504035, 0.33207616, 0.24212384],\n",
       "       [0.90582905, 0.5432009 , 0.89351043, 0.32853232, 0.47087217],\n",
       "       [0.959234  , 0.41619832, 0.26062101, 0.51064112, 0.1994102 ]])"
      ]
     },
     "execution_count": 2,
     "metadata": {},
     "output_type": "execute_result"
    }
   ],
   "source": [
    "np.random.rand( 3, 5)"
   ]
  },
  {
   "cell_type": "code",
   "execution_count": 3,
   "id": "3cbce1c6",
   "metadata": {},
   "outputs": [
    {
     "data": {
      "text/plain": [
       "[array([[0.81707434, 0.51104213, 0.53646615, 0.62158423],\n",
       "        [0.60705271, 0.86532662, 0.43984556, 0.97525424]]),\n",
       " array([[0.86145749, 0.7134156 , 0.37423017, 0.68886973, 0.63753122],\n",
       "        [0.14876325, 0.98320005, 0.32571146, 0.41460782, 0.20724986],\n",
       "        [0.71941159, 0.18699698, 0.50670145, 0.96741667, 0.25576024],\n",
       "        [0.97293862, 0.92453398, 0.05653637, 0.19992018, 0.50058754]])]"
      ]
     },
     "execution_count": 3,
     "metadata": {},
     "output_type": "execute_result"
    }
   ],
   "source": [
    "layers = [2,4,5]\n",
    "weights = [np.random.rand(x, y) for x, y in zip(layers[:-1], layers[1:])]\n",
    "weights"
   ]
  },
  {
   "cell_type": "code",
   "execution_count": 4,
   "id": "dcf786ca",
   "metadata": {},
   "outputs": [
    {
     "data": {
      "text/plain": [
       "[2, 4]"
      ]
     },
     "execution_count": 4,
     "metadata": {},
     "output_type": "execute_result"
    }
   ],
   "source": [
    "layers[:-1]"
   ]
  },
  {
   "cell_type": "code",
   "execution_count": 5,
   "id": "62ee9df8",
   "metadata": {},
   "outputs": [
    {
     "data": {
      "text/plain": [
       "[4, 5]"
      ]
     },
     "execution_count": 5,
     "metadata": {},
     "output_type": "execute_result"
    }
   ],
   "source": [
    "layers[1:]"
   ]
  },
  {
   "cell_type": "code",
   "execution_count": 6,
   "id": "7f027d59",
   "metadata": {},
   "outputs": [
    {
     "name": "stdout",
     "output_type": "stream",
     "text": [
      "[0.46208318 0.79408754 0.03217862 0.07149077 0.71586344]\n",
      "[0.52156789 0.93526689 0.06740953 0.65538566 0.8696134 ]\n"
     ]
    }
   ],
   "source": [
    "for i in ar:\n",
    "    print(i[1])"
   ]
  },
  {
   "cell_type": "code",
   "execution_count": 7,
   "id": "34c09e01",
   "metadata": {},
   "outputs": [
    {
     "data": {
      "text/plain": [
       "array([[0.52671464, 0.76371725, 0.21840549, 0.81679978],\n",
       "       [0.81080873, 0.49623734, 0.82622825, 0.14524143]])"
      ]
     },
     "execution_count": 7,
     "metadata": {},
     "output_type": "execute_result"
    }
   ],
   "source": [
    "import numpy as np\n",
    "data = np.array([[0,0,0]])\n",
    "layers = [2,4,5,1]\n",
    "weights = [np.random.rand(x, y) for x, y in zip(layers[:-1], layers[1:])]\n",
    "biases = [np.random.rand(1, y) for y in layers[1:]]\n",
    "\n",
    "X = data[:, :2]\n",
    "y = data[:, 2:]\n",
    "activations = []\n",
    "weights[0]"
   ]
  },
  {
   "cell_type": "code",
   "execution_count": 8,
   "id": "7031f2f5",
   "metadata": {},
   "outputs": [
    {
     "data": {
      "text/plain": [
       "array([[0.80423238, 0.48395506, 0.74312142, 0.53142411]])"
      ]
     },
     "execution_count": 8,
     "metadata": {},
     "output_type": "execute_result"
    }
   ],
   "source": [
    "biases[0]"
   ]
  },
  {
   "cell_type": "code",
   "execution_count": 9,
   "id": "9f1f298a",
   "metadata": {},
   "outputs": [
    {
     "data": {
      "text/plain": [
       "array([[0.80423238, 0.48395506, 0.74312142, 0.53142411]])"
      ]
     },
     "execution_count": 9,
     "metadata": {},
     "output_type": "execute_result"
    }
   ],
   "source": [
    "z = np.dot(X[0], weights[0])+biases[0]\n",
    "z"
   ]
  },
  {
   "cell_type": "code",
   "execution_count": 10,
   "id": "f5cf22f4",
   "metadata": {},
   "outputs": [
    {
     "name": "stdout",
     "output_type": "stream",
     "text": [
      "activation:  0\n",
      "[[0.37280731 0.49073339 0.43602451 0.38801908]]\n",
      "\n",
      "\n",
      "activation:  1\n",
      "[[0.2135246  0.19575532 0.1519858  0.17167954 0.3227526 ]]\n",
      "\n",
      "\n",
      "activation:  2\n",
      "[[0.4119946]]\n",
      "\n",
      "\n",
      "Output error: \n",
      " [array([[0.09980777]])]\n",
      "\n",
      "layer errors\n",
      "[[0.00214879 0.00349957 0.00325247 0.00402641]]\n",
      "[[0.009786   0.00151377 0.00513107 0.00347767 0.00632083]]\n",
      "[[0.09980777]]\n"
     ]
    }
   ],
   "source": [
    "import numpy as np\n",
    "import math\n",
    "\n",
    "# data = np.array([[0,0,0], [0,1,1], [1,0,1], [1,1,0]])\n",
    "data = np.array([[0,0,0]])\n",
    "layers = [2,4,5,1]\n",
    "weights = [np.random.rand(x, y) for x, y in zip(layers[:-1], layers[1:])]\n",
    "biases = [np.random.rand(1, y) for y in layers[1:]]\n",
    "\n",
    "def sigmoid(z):\n",
    "    return 1 / (1+np.exp(z))\n",
    "\n",
    "def dev_sig(a):\n",
    "    return a*(1-a)\n",
    "\n",
    "def output_error(a, y):\n",
    "    return (a - y) * dev_sig(a)\n",
    "\n",
    "X = data[:, :2]\n",
    "y = data[:, 2:]\n",
    "activations = []\n",
    "a = X\n",
    "lr = 0.25\n",
    "for i in range(0, len(layers)-1):\n",
    "    z = np.dot(a, weights[i])+biases[i]\n",
    "    a = sigmoid(z)\n",
    "    activations.append(a)\n",
    "\n",
    "for i in range(len(activations)):\n",
    "    print('activation: ', i)\n",
    "    print(activations[i])\n",
    "    print('\\n')\n",
    "\n",
    "n_layers = len(layers)\n",
    "errors = [output_error(a, y)]\n",
    "print('Output error: \\n', errors)\n",
    "\n",
    "for idx in range(2, n_layers):\n",
    "    error = np.dot(errors[0], weights[-idx+1].T)*dev_sig(activations[-idx])\n",
    "    errors.insert(0, error)\n",
    "\n",
    "print('\\nlayer errors')\n",
    "for error in errors:\n",
    "    print(error)\n",
    "n_data = len(X)\n",
    "for idx in range(0,n_layers-2):\n",
    "    weights[idx] = weights[idx] - (lr/n_data)*np.sum(errors[idx]*activations[idx].T)"
   ]
  },
  {
   "cell_type": "code",
   "execution_count": null,
   "id": "a4b29e40",
   "metadata": {},
   "outputs": [],
   "source": []
  },
  {
   "cell_type": "code",
   "execution_count": 11,
   "id": "7e991bee",
   "metadata": {},
   "outputs": [
    {
     "data": {
      "text/plain": [
       "3"
      ]
     },
     "execution_count": 11,
     "metadata": {},
     "output_type": "execute_result"
    }
   ],
   "source": [
    "len(weights)"
   ]
  },
  {
   "cell_type": "code",
   "execution_count": 12,
   "id": "5afabbc7",
   "metadata": {},
   "outputs": [
    {
     "data": {
      "text/plain": [
       "4"
      ]
     },
     "execution_count": 12,
     "metadata": {},
     "output_type": "execute_result"
    }
   ],
   "source": [
    "n_layers"
   ]
  },
  {
   "cell_type": "code",
   "execution_count": 27,
   "id": "5d3daa2e",
   "metadata": {},
   "outputs": [
    {
     "data": {
      "text/plain": [
       "(array([0, 1]),\n",
       " array([0, 0]),\n",
       " array([1, 1]),\n",
       " array([1, 0]),\n",
       " array([1, 0]),\n",
       " array([0, 0]),\n",
       " array([0, 1]),\n",
       " array([1, 0]),\n",
       " array([0, 0]),\n",
       " array([1, 0]),\n",
       " array([0, 1]),\n",
       " array([1, 0]),\n",
       " array([1, 1]),\n",
       " array([0, 1]),\n",
       " array([0, 1]),\n",
       " array([0, 0]),\n",
       " array([0, 1]),\n",
       " array([0, 1]),\n",
       " array([0, 0]),\n",
       " array([1, 0]),\n",
       " array([0, 1]),\n",
       " array([0, 0]),\n",
       " array([0, 0]),\n",
       " array([1, 1]),\n",
       " array([0, 1]),\n",
       " array([0, 1]),\n",
       " array([0, 0]),\n",
       " array([0, 0]),\n",
       " array([0, 0]),\n",
       " array([1, 0]),\n",
       " array([1, 0]),\n",
       " array([1, 1]),\n",
       " array([1, 0]),\n",
       " array([0, 1]),\n",
       " array([0, 1]),\n",
       " array([0, 1]),\n",
       " array([1, 0]),\n",
       " array([1, 0]),\n",
       " array([1, 1]),\n",
       " array([0, 0]),\n",
       " array([0, 1]),\n",
       " array([0, 1]),\n",
       " array([1, 0]),\n",
       " array([0, 1]),\n",
       " array([1, 0]),\n",
       " array([0, 0]),\n",
       " array([0, 0]),\n",
       " array([1, 1]),\n",
       " array([1, 1]),\n",
       " array([0, 0]),\n",
       " array([0, 1]),\n",
       " array([1, 0]),\n",
       " array([0, 1]),\n",
       " array([1, 0]),\n",
       " array([0, 1]),\n",
       " array([0, 0]),\n",
       " array([0, 1]),\n",
       " array([1, 1]),\n",
       " array([1, 1]),\n",
       " array([1, 1]),\n",
       " array([0, 0]),\n",
       " array([0, 0]),\n",
       " array([0, 0]),\n",
       " array([0, 1]),\n",
       " array([1, 0]),\n",
       " array([0, 1]),\n",
       " array([0, 0]),\n",
       " array([1, 0]),\n",
       " array([1, 0]),\n",
       " array([1, 1]),\n",
       " array([1, 0]),\n",
       " array([1, 0]),\n",
       " array([0, 0]),\n",
       " array([0, 1]),\n",
       " array([1, 0]),\n",
       " array([0, 1]),\n",
       " array([0, 1]),\n",
       " array([0, 0]),\n",
       " array([1, 0]),\n",
       " array([1, 0]),\n",
       " array([0, 0]),\n",
       " array([1, 0]),\n",
       " array([0, 0]),\n",
       " array([0, 1]),\n",
       " array([1, 0]),\n",
       " array([1, 0]),\n",
       " array([0, 0]),\n",
       " array([1, 1]),\n",
       " array([1, 1]),\n",
       " array([1, 1]),\n",
       " array([1, 1]),\n",
       " array([1, 0]),\n",
       " array([1, 1]),\n",
       " array([1, 1]),\n",
       " array([1, 1]),\n",
       " array([1, 1]),\n",
       " array([1, 1]),\n",
       " array([1, 0]),\n",
       " array([0, 1]),\n",
       " array([1, 0]))"
      ]
     },
     "execution_count": 27,
     "metadata": {},
     "output_type": "execute_result"
    }
   ],
   "source": [
    "data = np.loadtxt(\"../data/xor_test.csv\", delimiter=',', dtype=int)\n",
    "X = data[:, :-1]\n",
    "y = data[:, -1] \n",
    "\n",
    "dataset = [(X[i], [y[i]]) for i in range(len(X))]\n",
    "\n",
    "train_size = int(len(dataset) * 0.8)\n",
    "train_data = dataset[:train_size]\n",
    "test_data = dataset[train_size:]\n",
    "X, y = zip(*test_data)\n",
    "X"
   ]
  }
 ],
 "metadata": {
  "kernelspec": {
   "display_name": "base",
   "language": "python",
   "name": "python3"
  },
  "language_info": {
   "codemirror_mode": {
    "name": "ipython",
    "version": 3
   },
   "file_extension": ".py",
   "mimetype": "text/x-python",
   "name": "python",
   "nbconvert_exporter": "python",
   "pygments_lexer": "ipython3",
   "version": "3.13.2"
  }
 },
 "nbformat": 4,
 "nbformat_minor": 5
}
