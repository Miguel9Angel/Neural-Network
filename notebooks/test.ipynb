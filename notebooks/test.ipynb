{
 "cells": [
  {
   "cell_type": "code",
   "execution_count": 9,
   "id": "59bed1a0",
   "metadata": {},
   "outputs": [],
   "source": [
    "import numpy as np\n",
    "ar = np.random.rand(2, 3, 5)"
   ]
  },
  {
   "cell_type": "code",
   "execution_count": 14,
   "id": "d8ba03f5",
   "metadata": {},
   "outputs": [
    {
     "data": {
      "text/plain": [
       "array([[0.4741551 , 0.05980618, 0.91418929, 0.08802775, 0.49535472],\n",
       "       [0.65494662, 0.87361131, 0.84917326, 0.5521557 , 0.56124506],\n",
       "       [0.15536994, 0.75022381, 0.6597372 , 0.05596126, 0.10684312]])"
      ]
     },
     "execution_count": 14,
     "metadata": {},
     "output_type": "execute_result"
    }
   ],
   "source": [
    "np.random.rand( 3, 5)"
   ]
  },
  {
   "cell_type": "code",
   "execution_count": 20,
   "id": "3cbce1c6",
   "metadata": {},
   "outputs": [
    {
     "data": {
      "text/plain": [
       "[array([[0.14441555, 0.79628747, 0.61199865, 0.19330875],\n",
       "        [0.77126357, 0.15140932, 0.81958365, 0.66983931]]),\n",
       " array([[0.46815346, 0.59742422, 0.26056238, 0.15602772, 0.32711535],\n",
       "        [0.69619168, 0.09013423, 0.40805755, 0.42640263, 0.94642092],\n",
       "        [0.74280556, 0.00156339, 0.69337951, 0.25748926, 0.97328215],\n",
       "        [0.37584184, 0.14976177, 0.71035405, 0.89275363, 0.71056901]])]"
      ]
     },
     "execution_count": 20,
     "metadata": {},
     "output_type": "execute_result"
    }
   ],
   "source": [
    "layers = [2,4,5]\n",
    "weights = [np.random.rand(x, y) for x, y in zip(layers[:-1], layers[1:])]\n",
    "weights"
   ]
  },
  {
   "cell_type": "code",
   "execution_count": 18,
   "id": "dcf786ca",
   "metadata": {},
   "outputs": [
    {
     "data": {
      "text/plain": [
       "[2, 4]"
      ]
     },
     "execution_count": 18,
     "metadata": {},
     "output_type": "execute_result"
    }
   ],
   "source": [
    "layers[:-1]"
   ]
  },
  {
   "cell_type": "code",
   "execution_count": 19,
   "id": "62ee9df8",
   "metadata": {},
   "outputs": [
    {
     "data": {
      "text/plain": [
       "[4, 5]"
      ]
     },
     "execution_count": 19,
     "metadata": {},
     "output_type": "execute_result"
    }
   ],
   "source": [
    "layers[1:]"
   ]
  },
  {
   "cell_type": "code",
   "execution_count": 12,
   "id": "7f027d59",
   "metadata": {},
   "outputs": [
    {
     "name": "stdout",
     "output_type": "stream",
     "text": [
      "[0.53057685 0.21895895 0.77538022 0.16773538 0.66370533]\n",
      "[0.20472465 0.90374025 0.54659374 0.66356955 0.11195788]\n"
     ]
    }
   ],
   "source": [
    "for i in ar:\n",
    "    print(i[1])"
   ]
  }
 ],
 "metadata": {
  "kernelspec": {
   "display_name": "base",
   "language": "python",
   "name": "python3"
  },
  "language_info": {
   "codemirror_mode": {
    "name": "ipython",
    "version": 3
   },
   "file_extension": ".py",
   "mimetype": "text/x-python",
   "name": "python",
   "nbconvert_exporter": "python",
   "pygments_lexer": "ipython3",
   "version": "3.13.2"
  }
 },
 "nbformat": 4,
 "nbformat_minor": 5
}
