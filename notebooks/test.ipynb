{
 "cells": [
  {
   "cell_type": "code",
   "execution_count": 9,
   "id": "59bed1a0",
   "metadata": {},
   "outputs": [],
   "source": [
    "import numpy as np\n",
    "ar = np.random.rand(2, 3, 5)"
   ]
  },
  {
   "cell_type": "code",
   "execution_count": 14,
   "id": "d8ba03f5",
   "metadata": {},
   "outputs": [
    {
     "data": {
      "text/plain": [
       "array([[0.4741551 , 0.05980618, 0.91418929, 0.08802775, 0.49535472],\n",
       "       [0.65494662, 0.87361131, 0.84917326, 0.5521557 , 0.56124506],\n",
       "       [0.15536994, 0.75022381, 0.6597372 , 0.05596126, 0.10684312]])"
      ]
     },
     "execution_count": 14,
     "metadata": {},
     "output_type": "execute_result"
    }
   ],
   "source": [
    "np.random.rand( 3, 5)"
   ]
  },
  {
   "cell_type": "code",
   "execution_count": 20,
   "id": "3cbce1c6",
   "metadata": {},
   "outputs": [
    {
     "data": {
      "text/plain": [
       "[array([[0.14441555, 0.79628747, 0.61199865, 0.19330875],\n",
       "        [0.77126357, 0.15140932, 0.81958365, 0.66983931]]),\n",
       " array([[0.46815346, 0.59742422, 0.26056238, 0.15602772, 0.32711535],\n",
       "        [0.69619168, 0.09013423, 0.40805755, 0.42640263, 0.94642092],\n",
       "        [0.74280556, 0.00156339, 0.69337951, 0.25748926, 0.97328215],\n",
       "        [0.37584184, 0.14976177, 0.71035405, 0.89275363, 0.71056901]])]"
      ]
     },
     "execution_count": 20,
     "metadata": {},
     "output_type": "execute_result"
    }
   ],
   "source": [
    "layers = [2,4,5]\n",
    "weights = [np.random.rand(x, y) for x, y in zip(layers[:-1], layers[1:])]\n",
    "weights"
   ]
  },
  {
   "cell_type": "code",
   "execution_count": 18,
   "id": "dcf786ca",
   "metadata": {},
   "outputs": [
    {
     "data": {
      "text/plain": [
       "[2, 4]"
      ]
     },
     "execution_count": 18,
     "metadata": {},
     "output_type": "execute_result"
    }
   ],
   "source": [
    "layers[:-1]"
   ]
  },
  {
   "cell_type": "code",
   "execution_count": 19,
   "id": "62ee9df8",
   "metadata": {},
   "outputs": [
    {
     "data": {
      "text/plain": [
       "[4, 5]"
      ]
     },
     "execution_count": 19,
     "metadata": {},
     "output_type": "execute_result"
    }
   ],
   "source": [
    "layers[1:]"
   ]
  },
  {
   "cell_type": "code",
   "execution_count": 12,
   "id": "7f027d59",
   "metadata": {},
   "outputs": [
    {
     "name": "stdout",
     "output_type": "stream",
     "text": [
      "[0.53057685 0.21895895 0.77538022 0.16773538 0.66370533]\n",
      "[0.20472465 0.90374025 0.54659374 0.66356955 0.11195788]\n"
     ]
    }
   ],
   "source": [
    "for i in ar:\n",
    "    print(i[1])"
   ]
  },
  {
   "cell_type": "code",
   "execution_count": 3,
   "id": "34c09e01",
   "metadata": {},
   "outputs": [
    {
     "data": {
      "text/plain": [
       "array([[0.59204003, 0.19184424, 0.7975799 , 0.07816532],\n",
       "       [0.1112072 , 0.11026651, 0.75166682, 0.80019196]])"
      ]
     },
     "execution_count": 3,
     "metadata": {},
     "output_type": "execute_result"
    }
   ],
   "source": [
    "import numpy as np\n",
    "data = np.array([[0,0,0], [0,1,1], [1,0,1], [1,1,0]])\n",
    "layers = [2,4,5,1]\n",
    "weights = [np.random.rand(x, y) for x, y in zip(layers[:-1], layers[1:])]\n",
    "biases = [np.random.rand(1, y) for y in layers[1:]]\n",
    "\n",
    "X = data[:, :2]\n",
    "y = data[:, 2:]\n",
    "activations = []\n",
    "weights[0]"
   ]
  },
  {
   "cell_type": "code",
   "execution_count": 4,
   "id": "e6c73230",
   "metadata": {},
   "outputs": [
    {
     "data": {
      "text/plain": [
       "array([0, 0])"
      ]
     },
     "execution_count": 4,
     "metadata": {},
     "output_type": "execute_result"
    }
   ],
   "source": [
    "X[0]"
   ]
  },
  {
   "cell_type": "code",
   "execution_count": 2,
   "id": "9f1f298a",
   "metadata": {},
   "outputs": [
    {
     "ename": "ValueError",
     "evalue": "shapes (2,4) and (2,) not aligned: 4 (dim 1) != 2 (dim 0)",
     "output_type": "error",
     "traceback": [
      "\u001b[1;31m---------------------------------------------------------------------------\u001b[0m",
      "\u001b[1;31mValueError\u001b[0m                                Traceback (most recent call last)",
      "Cell \u001b[1;32mIn[2], line 1\u001b[0m\n\u001b[1;32m----> 1\u001b[0m z \u001b[38;5;241m=\u001b[39m np\u001b[38;5;241m.\u001b[39mdot(weights[\u001b[38;5;241m0\u001b[39m], X[\u001b[38;5;241m0\u001b[39m])\u001b[38;5;241m+\u001b[39mbiases[\u001b[38;5;241m0\u001b[39m]\n\u001b[0;32m      2\u001b[0m z\n",
      "\u001b[1;31mValueError\u001b[0m: shapes (2,4) and (2,) not aligned: 4 (dim 1) != 2 (dim 0)"
     ]
    }
   ],
   "source": [
    "z = np.dot(weights[0], X[0])+biases[0]\n",
    "z"
   ]
  }
 ],
 "metadata": {
  "kernelspec": {
   "display_name": "base",
   "language": "python",
   "name": "python3"
  },
  "language_info": {
   "codemirror_mode": {
    "name": "ipython",
    "version": 3
   },
   "file_extension": ".py",
   "mimetype": "text/x-python",
   "name": "python",
   "nbconvert_exporter": "python",
   "pygments_lexer": "ipython3",
   "version": "3.12.3"
  }
 },
 "nbformat": 4,
 "nbformat_minor": 5
}
