{
 "cells": [
  {
   "cell_type": "code",
   "execution_count": 14,
   "id": "59bed1a0",
   "metadata": {},
   "outputs": [],
   "source": [
    "import numpy as np\n",
    "ar = np.random.rand(2, 3, 5)"
   ]
  },
  {
   "cell_type": "code",
   "execution_count": 15,
   "id": "d8ba03f5",
   "metadata": {},
   "outputs": [
    {
     "data": {
      "text/plain": [
       "array([[0.49701927, 0.88879208, 0.5146968 , 0.71899029, 0.35207904],\n",
       "       [0.05218334, 0.65909457, 0.29890715, 0.65126888, 0.30613362],\n",
       "       [0.24337945, 0.12478123, 0.98485053, 0.34603927, 0.33522251]])"
      ]
     },
     "execution_count": 15,
     "metadata": {},
     "output_type": "execute_result"
    }
   ],
   "source": [
    "np.random.rand( 3, 5)"
   ]
  },
  {
   "cell_type": "code",
   "execution_count": 16,
   "id": "3cbce1c6",
   "metadata": {},
   "outputs": [
    {
     "data": {
      "text/plain": [
       "[array([[0.28210847, 0.26930745, 0.6345684 , 0.33576293],\n",
       "        [0.67913399, 0.59193711, 0.25134216, 0.32758198]]),\n",
       " array([[6.12107138e-01, 4.58781232e-01, 1.57800152e-01, 6.43185941e-01,\n",
       "         3.41645218e-01],\n",
       "        [1.52176768e-01, 7.90969557e-01, 6.70077986e-02, 1.09199451e-04,\n",
       "         4.38062821e-01],\n",
       "        [5.04659240e-01, 4.19507646e-01, 1.32220489e-01, 5.65172181e-01,\n",
       "         3.53535735e-01],\n",
       "        [5.06004564e-01, 9.80602018e-01, 1.87202854e-01, 2.40441094e-02,\n",
       "         4.36200127e-01]])]"
      ]
     },
     "execution_count": 16,
     "metadata": {},
     "output_type": "execute_result"
    }
   ],
   "source": [
    "layers = [2,4,5]\n",
    "weights = [np.random.rand(x, y) for x, y in zip(layers[:-1], layers[1:])]\n",
    "weights"
   ]
  },
  {
   "cell_type": "code",
   "execution_count": 17,
   "id": "dcf786ca",
   "metadata": {},
   "outputs": [
    {
     "data": {
      "text/plain": [
       "[2, 4]"
      ]
     },
     "execution_count": 17,
     "metadata": {},
     "output_type": "execute_result"
    }
   ],
   "source": [
    "layers[:-1]"
   ]
  },
  {
   "cell_type": "code",
   "execution_count": 18,
   "id": "62ee9df8",
   "metadata": {},
   "outputs": [
    {
     "data": {
      "text/plain": [
       "[4, 5]"
      ]
     },
     "execution_count": 18,
     "metadata": {},
     "output_type": "execute_result"
    }
   ],
   "source": [
    "layers[1:]"
   ]
  },
  {
   "cell_type": "code",
   "execution_count": 19,
   "id": "7f027d59",
   "metadata": {},
   "outputs": [
    {
     "name": "stdout",
     "output_type": "stream",
     "text": [
      "[0.49797777 0.49563758 0.39106292 0.34521883 0.13589327]\n",
      "[0.40445803 0.80207734 0.09713267 0.94211146 0.17611749]\n"
     ]
    }
   ],
   "source": [
    "for i in ar:\n",
    "    print(i[1])"
   ]
  },
  {
   "cell_type": "code",
   "execution_count": 20,
   "id": "34c09e01",
   "metadata": {},
   "outputs": [
    {
     "data": {
      "text/plain": [
       "array([[0.09972441, 0.21688486, 0.46938457, 0.28919163],\n",
       "       [0.00299905, 0.45538632, 0.60608024, 0.8036408 ]])"
      ]
     },
     "execution_count": 20,
     "metadata": {},
     "output_type": "execute_result"
    }
   ],
   "source": [
    "import numpy as np\n",
    "data = np.array([[0,0,0], [0,1,1], [1,0,1], [1,1,0]])\n",
    "layers = [2,4,5,1]\n",
    "weights = [np.random.rand(x, y) for x, y in zip(layers[:-1], layers[1:])]\n",
    "biases = [np.random.rand(1, y) for y in layers[1:]]\n",
    "\n",
    "X = data[:, :2]\n",
    "y = data[:, 2:]\n",
    "activations = []\n",
    "weights[0]"
   ]
  },
  {
   "cell_type": "code",
   "execution_count": 21,
   "id": "7031f2f5",
   "metadata": {},
   "outputs": [
    {
     "data": {
      "text/plain": [
       "array([[0.071818  , 0.50609763, 0.25986277, 0.14919316]])"
      ]
     },
     "execution_count": 21,
     "metadata": {},
     "output_type": "execute_result"
    }
   ],
   "source": [
    "biases[0]"
   ]
  },
  {
   "cell_type": "code",
   "execution_count": 22,
   "id": "9f1f298a",
   "metadata": {},
   "outputs": [
    {
     "data": {
      "text/plain": [
       "array([[0.071818  , 0.50609763, 0.25986277, 0.14919316]])"
      ]
     },
     "execution_count": 22,
     "metadata": {},
     "output_type": "execute_result"
    }
   ],
   "source": [
    "z = np.dot(X[0], weights[0])+biases[0]\n",
    "z"
   ]
  }
 ],
 "metadata": {
  "kernelspec": {
   "display_name": "base",
   "language": "python",
   "name": "python3"
  },
  "language_info": {
   "codemirror_mode": {
    "name": "ipython",
    "version": 3
   },
   "file_extension": ".py",
   "mimetype": "text/x-python",
   "name": "python",
   "nbconvert_exporter": "python",
   "pygments_lexer": "ipython3",
   "version": "3.13.2"
  }
 },
 "nbformat": 4,
 "nbformat_minor": 5
}
