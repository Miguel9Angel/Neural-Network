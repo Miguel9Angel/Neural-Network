{
 "cells": [
  {
   "cell_type": "code",
   "execution_count": 5,
   "id": "6026259e",
   "metadata": {},
   "outputs": [],
   "source": [
    "import sys\n",
    "import os\n",
    "sys.path.append(os.path.join(os.path.dirname(os.getcwd()), 'src'))\n",
    "from keras.datasets import mnist\n",
    "import numpy as np\n",
    "from network import Network"
   ]
  },
  {
   "cell_type": "code",
   "execution_count": 6,
   "id": "3ac118bc",
   "metadata": {},
   "outputs": [
    {
     "ename": "TypeError",
     "evalue": "Network.backpropagation() takes 3 positional arguments but 4 were given",
     "output_type": "error",
     "traceback": [
      "\u001b[31m---------------------------------------------------------------------------\u001b[39m",
      "\u001b[31mTypeError\u001b[39m                                 Traceback (most recent call last)",
      "\u001b[36mCell\u001b[39m\u001b[36m \u001b[39m\u001b[32mIn[6]\u001b[39m\u001b[32m, line 41\u001b[39m\n\u001b[32m     38\u001b[39m test_data = \u001b[38;5;28mlist\u001b[39m(\u001b[38;5;28mzip\u001b[39m(X_test, y_test_oh))\n\u001b[32m     40\u001b[39m net_mnist =  Network([\u001b[32m784\u001b[39m, \u001b[32m70\u001b[39m, \u001b[32m70\u001b[39m, \u001b[32m10\u001b[39m], cost=\u001b[33m'\u001b[39m\u001b[33mcross entropy\u001b[39m\u001b[33m'\u001b[39m)\n\u001b[32m---> \u001b[39m\u001b[32m41\u001b[39m \u001b[43mnet_mnist\u001b[49m\u001b[43m.\u001b[49m\u001b[43mSGD\u001b[49m\u001b[43m(\u001b[49m\u001b[43mtraining_data\u001b[49m\u001b[43m,\u001b[49m\u001b[43m \u001b[49m\u001b[43mepochs\u001b[49m\u001b[43m=\u001b[49m\u001b[32;43m20\u001b[39;49m\u001b[43m,\u001b[49m\u001b[43m \u001b[49m\u001b[43mbatch_size\u001b[49m\u001b[43m=\u001b[49m\u001b[32;43m25\u001b[39;49m\u001b[43m,\u001b[49m\u001b[43m \u001b[49m\u001b[43mlr\u001b[49m\u001b[43m=\u001b[49m\u001b[32;43m0.5\u001b[39;49m\u001b[43m)\u001b[49m\n\u001b[32m     42\u001b[39m accuracy, prediction = net_mnist.evaluate(test_data)\n\u001b[32m     43\u001b[39m \u001b[38;5;28mprint\u001b[39m(\u001b[33m'\u001b[39m\u001b[33mMNIST model Accuracy\u001b[39m\u001b[33m'\u001b[39m)\n",
      "\u001b[36mFile \u001b[39m\u001b[32mc:\\Users\\konec\\Documents\\DELETE\\Job_Projects\\Neural-Network\\src\\network.py:50\u001b[39m, in \u001b[36mNetwork.SGD\u001b[39m\u001b[34m(self, training_data, epochs, batch_size, lr, return_training_cost)\u001b[39m\n\u001b[32m     48\u001b[39m y_batch = np.vstack([y \u001b[38;5;28;01mfor\u001b[39;00m _, y \u001b[38;5;129;01min\u001b[39;00m batch])\n\u001b[32m     49\u001b[39m activations = \u001b[38;5;28mself\u001b[39m.feedforward(X_batch)\n\u001b[32m---> \u001b[39m\u001b[32m50\u001b[39m grads_w, grads_b = \u001b[38;5;28;43mself\u001b[39;49m\u001b[43m.\u001b[49m\u001b[43mbackpropagation\u001b[49m\u001b[43m(\u001b[49m\u001b[43mactivations\u001b[49m\u001b[43m,\u001b[49m\u001b[43m \u001b[49m\u001b[43my_batch\u001b[49m\u001b[43m,\u001b[49m\u001b[43m \u001b[49m\u001b[38;5;28;43mself\u001b[39;49m\u001b[43m.\u001b[49m\u001b[43mcost\u001b[49m\u001b[43m)\u001b[49m\n\u001b[32m     51\u001b[39m \u001b[38;5;28mself\u001b[39m.update_w_b(grads_w, grads_b, lr, X_batch.shape[\u001b[32m0\u001b[39m])\n\u001b[32m     52\u001b[39m \u001b[38;5;28;01mif\u001b[39;00m return_training_cost:\n",
      "\u001b[31mTypeError\u001b[39m: Network.backpropagation() takes 3 positional arguments but 4 were given"
     ]
    }
   ],
   "source": [
    "def testing_network(datasets):\n",
    "    for dataset_name in datasets:\n",
    "        BASE_DIR = os.path.dirname(os.path.abspath(__file__))\n",
    "        ruta_archivo = os.path.join(BASE_DIR, \"../data/\"+dataset_name)\n",
    "        data = np.loadtxt(ruta_archivo, delimiter=',', dtype=int)\n",
    "        X = data[:, :-1]\n",
    "        y = data[:, -1] \n",
    "\n",
    "        dataset = [(X[i], [y[i]]) for i in range(len(X))]\n",
    "\n",
    "        train_size = int(len(dataset) * 0.8)\n",
    "        train_data = dataset[:train_size]\n",
    "        test_data = dataset[train_size:]\n",
    "\n",
    "        network1 = Network([2, 30, 1])\n",
    "        network1.SGD(train_data, 10, 10, 0.5)\n",
    "        accuracy, prediction = network1.evaluate(test_data)\n",
    "        print('accuracy '+dataset_name )\n",
    "        print(accuracy)\n",
    "\n",
    "datasets = ['and_test.csv', 'or_test.csv', 'xor_test.csv']\n",
    "# testing_network(datasets)\n",
    "\n",
    "\n",
    "# ------------- training the mnist dataset -------------------\n",
    "(X_train, y_train), (X_test, y_test) = mnist.load_data()\n",
    "X_train = X_train.reshape(-1, 28*28) / 255\n",
    "X_test = X_test.reshape(-1, 28*28) / 255\n",
    "\n",
    "def one_hot(y, n_classes=10):\n",
    "    oh = np.zeros((y.size, n_classes))\n",
    "    oh[np.arange(y.size), y] = 1\n",
    "    return oh\n",
    "\n",
    "y_train_oh = one_hot(y_train)\n",
    "y_test_oh = one_hot(y_test)\n",
    "training_data = list(zip(X_train, y_train_oh))\n",
    "test_data = list(zip(X_test, y_test_oh))\n",
    "\n",
    "net_mnist =  Network([784, 70, 70, 10], cost='cross entropy')\n",
    "net_mnist.SGD(training_data, epochs=20, batch_size=25, lr=0.5)\n",
    "accuracy, prediction = net_mnist.evaluate(test_data)\n",
    "print('MNIST model Accuracy')\n",
    "print(accuracy)"
   ]
  },
  {
   "cell_type": "code",
   "execution_count": null,
   "id": "bcff3628",
   "metadata": {},
   "outputs": [],
   "source": []
  }
 ],
 "metadata": {
  "kernelspec": {
   "display_name": "base",
   "language": "python",
   "name": "python3"
  },
  "language_info": {
   "codemirror_mode": {
    "name": "ipython",
    "version": 3
   },
   "file_extension": ".py",
   "mimetype": "text/x-python",
   "name": "python",
   "nbconvert_exporter": "python",
   "pygments_lexer": "ipython3",
   "version": "3.11.13"
  }
 },
 "nbformat": 4,
 "nbformat_minor": 5
}
