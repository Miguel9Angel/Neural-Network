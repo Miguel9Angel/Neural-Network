{
 "cells": [
  {
   "cell_type": "code",
   "execution_count": 13,
   "id": "6026259e",
   "metadata": {},
   "outputs": [],
   "source": [
    "import sys\n",
    "import os\n",
    "sys.path.append(os.path.join(os.path.dirname(os.getcwd()), 'src'))\n",
    "from keras.datasets import mnist\n",
    "import numpy as np\n",
    "from network import Network"
   ]
  },
  {
   "cell_type": "code",
   "execution_count": 14,
   "id": "3ac118bc",
   "metadata": {},
   "outputs": [
    {
     "name": "stdout",
     "output_type": "stream",
     "text": [
      "MNIST model Accuracy\n",
      "0.9638\n"
     ]
    }
   ],
   "source": [
    "def testing_network(datasets):\n",
    "    for dataset_name in datasets:\n",
    "        BASE_DIR = os.path.dirname(os.path.abspath(__file__))\n",
    "        ruta_archivo = os.path.join(BASE_DIR, \"../data/\"+dataset_name)\n",
    "        data = np.loadtxt(ruta_archivo, delimiter=',', dtype=int)\n",
    "        X = data[:, :-1]\n",
    "        y = data[:, -1] \n",
    "\n",
    "        dataset = [(X[i], [y[i]]) for i in range(len(X))]\n",
    "\n",
    "        train_size = int(len(dataset) * 0.8)\n",
    "        train_data = dataset[:train_size]\n",
    "        test_data = dataset[train_size:]\n",
    "\n",
    "        network1 = Network([2, 30, 1])\n",
    "        network1.SGD(train_data, 10, 10, 0.5)\n",
    "        accuracy, prediction = network1.evaluate(test_data)\n",
    "        print('accuracy '+dataset_name )\n",
    "        print(accuracy)\n",
    "\n",
    "datasets = ['and_test.csv', 'or_test.csv', 'xor_test.csv']\n",
    "# testing_network(datasets)\n",
    "\n",
    "\n",
    "# ------------- training the mnist dataset -------------------\n",
    "(X_train, y_train), (X_test, y_test) = mnist.load_data()\n",
    "X_train = X_train.reshape(-1, 28*28) / 255\n",
    "X_test = X_test.reshape(-1, 28*28) / 255\n",
    "\n",
    "def one_hot(y, n_classes=10):\n",
    "    oh = np.zeros((y.size, n_classes))\n",
    "    oh[np.arange(y.size), y] = 1\n",
    "    return oh\n",
    "\n",
    "y_train_oh = one_hot(y_train)\n",
    "y_test_oh = one_hot(y_test)\n",
    "training_data = list(zip(X_train, y_train_oh))\n",
    "test_data = list(zip(X_test, y_test_oh))\n",
    "\n",
    "net_mnist =  Network([784, 70, 70, 10], cost='cross entropy')\n",
    "net_mnist.SGD(training_data, epochs=20, batch_size=25, lr=0.5)\n",
    "accuracy, prediction = net_mnist.evaluate(test_data)\n",
    "print('MNIST model Accuracy')\n",
    "print(accuracy)"
   ]
  },
  {
   "cell_type": "code",
   "execution_count": null,
   "id": "bcff3628",
   "metadata": {},
   "outputs": [],
   "source": []
  }
 ],
 "metadata": {
  "kernelspec": {
   "display_name": "base",
   "language": "python",
   "name": "python3"
  },
  "language_info": {
   "codemirror_mode": {
    "name": "ipython",
    "version": 3
   },
   "file_extension": ".py",
   "mimetype": "text/x-python",
   "name": "python",
   "nbconvert_exporter": "python",
   "pygments_lexer": "ipython3",
   "version": "3.11.13"
  }
 },
 "nbformat": 4,
 "nbformat_minor": 5
}
